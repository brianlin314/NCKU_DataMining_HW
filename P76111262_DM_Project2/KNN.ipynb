{
 "cells": [
  {
   "cell_type": "code",
   "execution_count": 1,
   "metadata": {},
   "outputs": [],
   "source": [
    "import pandas as pd\n",
    "import numpy as np\n",
    "import matplotlib.pyplot as plt\n",
    "import seaborn as sns\n",
    "import io\n",
    "import requests"
   ]
  },
  {
   "cell_type": "code",
   "execution_count": 2,
   "metadata": {},
   "outputs": [
    {
     "name": "stdout",
     "output_type": "stream",
     "text": [
      "      age gender  height  weight attitude  prepare_hours class_type pass_rate  \\\n",
      "0      43      F     180      67  Serious              5   Physical      High   \n",
      "1      52      M     157      50  Serious              5   Physical      High   \n",
      "2      36      M     161      42  Serious              3   Physical      High   \n",
      "3      52      M     162      54  Serious              6   Physical      High   \n",
      "4      28      M     179      41  Serious              0     Online       Low   \n",
      "...   ...    ...     ...     ...      ...            ...        ...       ...   \n",
      "5995   30      M     145      81  Serious              3   Physical      High   \n",
      "5996   57      F     171      58  Serious              5   Physical      High   \n",
      "5997   38      F     151      66  Serious              6   Physical      High   \n",
      "5998   52      F     151      92  Serious              6     Online       Low   \n",
      "5999   64      M     140     100  Serious              3   Physical      High   \n",
      "\n",
      "      glasses classhw care label  \n",
      "0           0    High  Yes  good  \n",
      "1           0     Low  Yes  good  \n",
      "2           1    High  Yes  good  \n",
      "3           1    High  Yes  good  \n",
      "4           1     Low   No   bad  \n",
      "...       ...     ...  ...   ...  \n",
      "5995        0  Middle  Yes  good  \n",
      "5996        0     Low  Yes  good  \n",
      "5997        0  Middle  Yes  good  \n",
      "5998        0    High  Yes   bad  \n",
      "5999        0  Middle  Yes  good  \n",
      "\n",
      "[6000 rows x 12 columns]\n"
     ]
    }
   ],
   "source": [
    "df=pd.read_csv(\"./teacher_data.csv\") #讀csv\n",
    "print(df)"
   ]
  },
  {
   "cell_type": "code",
   "execution_count": 3,
   "metadata": {},
   "outputs": [
    {
     "name": "stdout",
     "output_type": "stream",
     "text": [
      "      age  gender  height  weight  attitude  prepare_hours  class_type  \\\n",
      "0      43       0     180      67         1              5           1   \n",
      "1      52       1     157      50         1              5           1   \n",
      "2      36       1     161      42         1              3           1   \n",
      "3      52       1     162      54         1              6           1   \n",
      "4      28       1     179      41         1              0           0   \n",
      "...   ...     ...     ...     ...       ...            ...         ...   \n",
      "5995   30       1     145      81         1              3           1   \n",
      "5996   57       0     171      58         1              5           1   \n",
      "5997   38       0     151      66         1              6           1   \n",
      "5998   52       0     151      92         1              6           0   \n",
      "5999   64       1     140     100         1              3           1   \n",
      "\n",
      "      pass_rate  glasses  classhw  care  label  \n",
      "0             0        0        0     1      1  \n",
      "1             0        0        1     1      1  \n",
      "2             0        1        0     1      1  \n",
      "3             0        1        0     1      1  \n",
      "4             1        1        1     0      0  \n",
      "...         ...      ...      ...   ...    ...  \n",
      "5995          0        0        2     1      1  \n",
      "5996          0        0        1     1      1  \n",
      "5997          0        0        2     1      1  \n",
      "5998          1        0        0     1      0  \n",
      "5999          0        0        2     1      1  \n",
      "\n",
      "[6000 rows x 12 columns]\n"
     ]
    }
   ],
   "source": [
    "from sklearn.preprocessing import LabelEncoder\n",
    "label_encoder=LabelEncoder()\n",
    "df[\"gender\"]=label_encoder.fit_transform(df[\"gender\"]) # 對gender做label Encoder\n",
    "df[\"attitude\"]=label_encoder.fit_transform(df[\"attitude\"]) # 對attitude做label Encoder\n",
    "df[\"class_type\"]=label_encoder.fit_transform(df[\"class_type\"]) # 對class_type做label Encoder\n",
    "df[\"pass_rate\"]=label_encoder.fit_transform(df[\"pass_rate\"]) # 對pass_rate做label Encoder\n",
    "df[\"classhw\"]=label_encoder.fit_transform(df[\"classhw\"]) # 對classhw做label Encoder\n",
    "df[\"care\"]=label_encoder.fit_transform(df[\"care\"]) # 對care做label Encoder\n",
    "df[\"label\"]=label_encoder.fit_transform(df[\"label\"]) # 對label做label Encoder\n",
    "print(df)"
   ]
  },
  {
   "cell_type": "code",
   "execution_count": 4,
   "metadata": {},
   "outputs": [
    {
     "name": "stdout",
     "output_type": "stream",
     "text": [
      "當前資料缺失值總數: 0\n"
     ]
    }
   ],
   "source": [
    "df=df.dropna()\n",
    "print(\"當前資料缺失值總數:\",len(np.where(np.isnan(df))[0]))"
   ]
  },
  {
   "cell_type": "code",
   "execution_count": 5,
   "metadata": {},
   "outputs": [
    {
     "name": "stdout",
     "output_type": "stream",
     "text": [
      "X:\n",
      " [[ 43   0 180 ...   0   0   1]\n",
      " [ 52   1 157 ...   0   1   1]\n",
      " [ 36   1 161 ...   1   0   1]\n",
      " ...\n",
      " [ 38   0 151 ...   0   2   1]\n",
      " [ 52   0 151 ...   0   0   1]\n",
      " [ 64   1 140 ...   0   2   1]]\n",
      "y:\n",
      " [1 1 1 ... 1 0 1]\n",
      "Training data shape: (4500, 11)\n",
      "Testing data shape: (1500, 11)\n"
     ]
    }
   ],
   "source": [
    "from sklearn.model_selection import train_test_split\n",
    "X=df.drop(labels=[\"label\"],axis=1).values #沒label\n",
    "y=df[\"label\"].values #有label\n",
    "print(\"X:\\n\",X)\n",
    "print(\"y:\\n\",y)\n",
    "X_train,X_test,y_train,y_test=train_test_split(X,y,test_size=0.25,random_state=42)\n",
    "print(\"Training data shape:\",X_train.shape)\n",
    "print(\"Testing data shape:\",X_test.shape)"
   ]
  },
  {
   "cell_type": "markdown",
   "metadata": {},
   "source": [
    "建立 k-nearest neighbors(KNN) 模型\n",
    "\n",
    "Parameters:\n",
    "。n_neighbors: 設定鄰居的數量(k)，選取最近的k個點，預設為5。\n",
    "。algorithm: 搜尋數演算法{'auto'，'ball_tree'，'kd_tree'，'brute'}，可選。\n",
    "。metric: 計算距離的方式，預設為歐幾里得距離。\n",
    "\n",
    "Attributes:\n",
    "。classes_: 取得類別陣列。\n",
    "。effective_metric_: 取得計算距離的公式。\n",
    "\n",
    "Methods:\n",
    "。fit: 放入X、y進行模型擬合。\n",
    "。predict: 預測並回傳預測類別。\n",
    "。score: 預測成功的比例。"
   ]
  },
  {
   "cell_type": "code",
   "execution_count": 6,
   "metadata": {},
   "outputs": [
    {
     "name": "stdout",
     "output_type": "stream",
     "text": [
      "Training Set Accuracy:  0.8602222222222222\n",
      "Testing Set Accuracy:  0.6026666666666667\n"
     ]
    }
   ],
   "source": [
    "from sklearn.neighbors import KNeighborsClassifier\n",
    "\n",
    "# 建立KNN模型\n",
    "knnModel = KNeighborsClassifier(n_neighbors=2)\n",
    "# 使用訓練資料訓練模型\n",
    "knnModel.fit(X_train,y_train)\n",
    "# 預測成功的比例\n",
    "print('Training Set Accuracy: ',knnModel.score(X_train,y_train))\n",
    "print('Testing Set Accuracy: ',knnModel.score(X_test,y_test))\n"
   ]
  },
  {
   "cell_type": "code",
   "execution_count": 7,
   "metadata": {},
   "outputs": [
    {
     "data": {
      "image/png": "[encoded data removed]",
      "text/plain": [
       "<Figure size 640x480 with 1 Axes>"
      ]
     },
     "metadata": {},
     "output_type": "display_data"
    }
   ],
   "source": [
    "from sklearn.metrics import confusion_matrix\n",
    "import seaborn as sns\n",
    "y_prediction = knnModel.predict(X_test)\n",
    "mat = confusion_matrix(y_test, y_prediction)\n",
    "sns.heatmap(mat.T, square=True, annot=True, fmt='d', cbar=False,\n",
    "            xticklabels=[0, 1], yticklabels=[0,1])\n",
    "plt.xlabel('True label')\n",
    "plt.ylabel('Predicted label')\n",
    "\n",
    "plt.show()"
   ]
  },
  {
   "cell_type": "code",
   "execution_count": 8,
   "metadata": {},
   "outputs": [
    {
     "name": "stdout",
     "output_type": "stream",
     "text": [
      "微調後資料集準確率: 0.598\n"
     ]
    }
   ],
   "source": [
    "df_alter=pd.read_csv(\"./teacher_data_alter.csv\") #讀csv\n",
    "\n",
    "label_encoder=LabelEncoder()\n",
    "df_alter[\"gender\"]=label_encoder.fit_transform(df_alter[\"gender\"]) # 對gender做label Encoder\n",
    "df_alter[\"attitude\"]=label_encoder.fit_transform(df_alter[\"attitude\"]) # 對attitude做label Encoder\n",
    "df_alter[\"class_type\"]=label_encoder.fit_transform(df_alter[\"class_type\"]) # 對class_type做label Encoder\n",
    "df_alter[\"pass_rate\"]=label_encoder.fit_transform(df_alter[\"pass_rate\"]) # 對pass_rate做label Encoder\n",
    "df_alter[\"classhw\"]=label_encoder.fit_transform(df_alter[\"classhw\"]) # 對classhw做label Encoder\n",
    "df_alter[\"care\"]=label_encoder.fit_transform(df_alter[\"care\"]) # 對care做label Encoder\n",
    "df_alter[\"label\"]=label_encoder.fit_transform(df_alter[\"label\"]) # 對label做label Encoder\n",
    "\n",
    "X_alter=df_alter.drop(labels=[\"label\"],axis=1).values\n",
    "y_alter=df_alter[\"label\"].values\n",
    "print(\"微調後資料集準確率:\",knnModel.score(X_alter,y_alter)) #使用測試資料預測分類，並印出準確率"
   ]
  },
  {
   "cell_type": "code",
   "execution_count": 9,
   "metadata": {},
   "outputs": [
    {
     "data": {
      "image/png": "[encoded data removed]",
      "text/plain": [
       "<Figure size 640x480 with 1 Axes>"
      ]
     },
     "metadata": {},
     "output_type": "display_data"
    }
   ],
   "source": [
    "from sklearn.metrics import confusion_matrix\n",
    "import seaborn as sns\n",
    "y_prediction_alter = knnModel.predict(X_alter)\n",
    "mat = confusion_matrix(y_alter, y_prediction_alter)\n",
    "sns.heatmap(mat.T, square=True, annot=True, fmt='d', cbar=False,\n",
    "            xticklabels=[0, 1], yticklabels=[0,1])\n",
    "plt.xlabel('True label')\n",
    "plt.ylabel('Predicted label')\n",
    "\n",
    "plt.show()"
   ]
  }
 ],
 "metadata": {
  "kernelspec": {
   "display_name": "Python 3.9.12 ('base')",
   "language": "python",
   "name": "python3"
  },
  "language_info": {
   "codemirror_mode": {
    "name": "ipython",
    "version": 3
   },
   "file_extension": ".py",
   "mimetype": "text/x-python",
   "name": "python",
   "nbconvert_exporter": "python",
   "pygments_lexer": "ipython3",
   "version": "3.9.12"
  },
  "orig_nbformat": 4,
  "vscode": {
   "interpreter": {
    "hash": "21bfaabeb5f90dcb35f03e41cd0a17fbadd35308efdf98a46f30b833cf085000"
   }
  }
 },
 "nbformat": 4,
 "nbformat_minor": 2
}
