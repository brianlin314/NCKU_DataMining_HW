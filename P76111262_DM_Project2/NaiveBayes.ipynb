{
 "cells": [
  {
   "cell_type": "code",
   "execution_count": 1,
   "metadata": {},
   "outputs": [],
   "source": [
    "import pandas as pd\n",
    "import numpy as np\n",
    "import matplotlib.pyplot as plt\n",
    "import seaborn as sns\n",
    "import io\n",
    "import requests"
   ]
  },
  {
   "cell_type": "code",
   "execution_count": 2,
   "metadata": {},
   "outputs": [
    {
     "name": "stdout",
     "output_type": "stream",
     "text": [
      "      age gender  height  weight attitude  prepare_hours class_type pass_rate  \\\n",
      "0      43      F     180      67  Serious              5   Physical      High   \n",
      "1      52      M     157      50  Serious              5   Physical      High   \n",
      "2      36      M     161      42  Serious              3   Physical      High   \n",
      "3      52      M     162      54  Serious              6   Physical      High   \n",
      "4      28      M     179      41  Serious              0     Online       Low   \n",
      "...   ...    ...     ...     ...      ...            ...        ...       ...   \n",
      "5995   30      M     145      81  Serious              3   Physical      High   \n",
      "5996   57      F     171      58  Serious              5   Physical      High   \n",
      "5997   38      F     151      66  Serious              6   Physical      High   \n",
      "5998   52      F     151      92  Serious              6     Online       Low   \n",
      "5999   64      M     140     100  Serious              3   Physical      High   \n",
      "\n",
      "      glasses classhw care label  \n",
      "0           0    High  Yes  good  \n",
      "1           0     Low  Yes  good  \n",
      "2           1    High  Yes  good  \n",
      "3           1    High  Yes  good  \n",
      "4           1     Low   No   bad  \n",
      "...       ...     ...  ...   ...  \n",
      "5995        0  Middle  Yes  good  \n",
      "5996        0     Low  Yes  good  \n",
      "5997        0  Middle  Yes  good  \n",
      "5998        0    High  Yes   bad  \n",
      "5999        0  Middle  Yes  good  \n",
      "\n",
      "[6000 rows x 12 columns]\n"
     ]
    }
   ],
   "source": [
    "df=pd.read_csv(\"./teacher_data.csv\") #讀csv\n",
    "print(df)"
   ]
  },
  {
   "cell_type": "code",
   "execution_count": 3,
   "metadata": {},
   "outputs": [
    {
     "name": "stdout",
     "output_type": "stream",
     "text": [
      "      age  gender  height  weight  attitude  prepare_hours  class_type  \\\n",
      "0      43       0     180      67         1              5           1   \n",
      "1      52       1     157      50         1              5           1   \n",
      "2      36       1     161      42         1              3           1   \n",
      "3      52       1     162      54         1              6           1   \n",
      "4      28       1     179      41         1              0           0   \n",
      "...   ...     ...     ...     ...       ...            ...         ...   \n",
      "5995   30       1     145      81         1              3           1   \n",
      "5996   57       0     171      58         1              5           1   \n",
      "5997   38       0     151      66         1              6           1   \n",
      "5998   52       0     151      92         1              6           0   \n",
      "5999   64       1     140     100         1              3           1   \n",
      "\n",
      "      pass_rate  glasses  classhw  care  label  \n",
      "0             0        0        0     1      1  \n",
      "1             0        0        1     1      1  \n",
      "2             0        1        0     1      1  \n",
      "3             0        1        0     1      1  \n",
      "4             1        1        1     0      0  \n",
      "...         ...      ...      ...   ...    ...  \n",
      "5995          0        0        2     1      1  \n",
      "5996          0        0        1     1      1  \n",
      "5997          0        0        2     1      1  \n",
      "5998          1        0        0     1      0  \n",
      "5999          0        0        2     1      1  \n",
      "\n",
      "[6000 rows x 12 columns]\n"
     ]
    }
   ],
   "source": [
    "from sklearn.preprocessing import LabelEncoder\n",
    "label_encoder=LabelEncoder()\n",
    "df[\"gender\"]=label_encoder.fit_transform(df[\"gender\"]) # 對gender做label Encoder\n",
    "df[\"attitude\"]=label_encoder.fit_transform(df[\"attitude\"]) # 對attitude做label Encoder\n",
    "df[\"class_type\"]=label_encoder.fit_transform(df[\"class_type\"]) # 對class_type做label Encoder\n",
    "df[\"pass_rate\"]=label_encoder.fit_transform(df[\"pass_rate\"]) # 對pass_rate做label Encoder\n",
    "df[\"classhw\"]=label_encoder.fit_transform(df[\"classhw\"]) # 對classhw做label Encoder\n",
    "df[\"care\"]=label_encoder.fit_transform(df[\"care\"]) # 對care做label Encoder\n",
    "df[\"label\"]=label_encoder.fit_transform(df[\"label\"]) # 對label做label Encoder\n",
    "print(df)"
   ]
  },
  {
   "cell_type": "code",
   "execution_count": 4,
   "metadata": {},
   "outputs": [
    {
     "name": "stdout",
     "output_type": "stream",
     "text": [
      "當前資料缺失值總數: 0\n"
     ]
    }
   ],
   "source": [
    "df=df.dropna()\n",
    "print(\"當前資料缺失值總數:\",len(np.where(np.isnan(df))[0]))"
   ]
  },
  {
   "cell_type": "code",
   "execution_count": 5,
   "metadata": {},
   "outputs": [
    {
     "name": "stdout",
     "output_type": "stream",
     "text": [
      "X:\n",
      " [[ 43   0 180 ...   0   0   1]\n",
      " [ 52   1 157 ...   0   1   1]\n",
      " [ 36   1 161 ...   1   0   1]\n",
      " ...\n",
      " [ 38   0 151 ...   0   2   1]\n",
      " [ 52   0 151 ...   0   0   1]\n",
      " [ 64   1 140 ...   0   2   1]]\n",
      "y:\n",
      " [1 1 1 ... 1 0 1]\n",
      "Training data shape: (4500, 11)\n",
      "Testing data shape: (1500, 11)\n"
     ]
    }
   ],
   "source": [
    "from sklearn.model_selection import train_test_split\n",
    "X=df.drop(labels=[\"label\"],axis=1).values #沒label\n",
    "y=df[\"label\"].values #有label\n",
    "print(\"X:\\n\",X)\n",
    "print(\"y:\\n\",y)\n",
    "X_train,X_test,y_train,y_test=train_test_split(X,y,test_size=0.25,random_state=42)\n",
    "print(\"Training data shape:\",X_train.shape)\n",
    "print(\"Testing data shape:\",X_test.shape)"
   ]
  },
  {
   "cell_type": "code",
   "execution_count": 6,
   "metadata": {},
   "outputs": [
    {
     "name": "stdout",
     "output_type": "stream",
     "text": [
      "Training Set Accuracy:  0.9886666666666667\n",
      "Testing Set Accuracy:  0.9893333333333333\n"
     ]
    }
   ],
   "source": [
    "# Gaussian Naive Bayes: 主要用於連續變數，比方說特徵長度為幾公分、重量為幾公斤等等。\n",
    "from sklearn.naive_bayes import GaussianNB \n",
    "# 建立naive模型\n",
    "NBModel = GaussianNB()\n",
    "# 使用訓練資料訓練模型\n",
    "NBModel.fit(X_train,y_train)\n",
    "# 預測成功的比例\n",
    "print('Training Set Accuracy: ',NBModel.score(X_train,y_train))\n",
    "print('Testing Set Accuracy: ',NBModel.score(X_test,y_test))"
   ]
  },
  {
   "cell_type": "code",
   "execution_count": 7,
   "metadata": {},
   "outputs": [
    {
     "name": "stdout",
     "output_type": "stream",
     "text": [
      "Training Set Accuracy:  0.9915555555555555\n",
      "Testing Set Accuracy:  0.994\n"
     ]
    }
   ],
   "source": [
    "# Bernoulli Naive Bayes: 主要用在二元特徵，比方說特徵是否出現、特徵大小、特徵長短等等這種的二元分類。\n",
    "from sklearn.naive_bayes import BernoulliNB\n",
    "# 建立naive模型\n",
    "BernModel = BernoulliNB()\n",
    "# 使用訓練資料訓練模型\n",
    "BernModel.fit(X_train,y_train)\n",
    "# 預測成功的比例\n",
    "print('Training Set Accuracy: ',BernModel.score(X_train,y_train))\n",
    "print('Testing Set Accuracy: ',BernModel.score(X_test,y_test))"
   ]
  },
  {
   "cell_type": "code",
   "execution_count": 8,
   "metadata": {},
   "outputs": [
    {
     "name": "stdout",
     "output_type": "stream",
     "text": [
      "Training Set Accuracy:  0.9026666666666666\n",
      "Testing Set Accuracy:  0.9073333333333333\n"
     ]
    }
   ],
   "source": [
    "# Multinomial Naive Bayes: 主要用在離散變數，比方說次數、類別等等。\n",
    "from sklearn.naive_bayes import MultinomialNB\n",
    "# 建立naive模型\n",
    "MultiModel = MultinomialNB()\n",
    "# 使用訓練資料訓練模型\n",
    "MultiModel.fit(X_train,y_train)\n",
    "# 預測成功的比例\n",
    "print('Training Set Accuracy: ',MultiModel.score(X_train,y_train))\n",
    "print('Testing Set Accuracy: ',MultiModel.score(X_test,y_test))"
   ]
  },
  {
   "cell_type": "code",
   "execution_count": 9,
   "metadata": {},
   "outputs": [
    {
     "data": {
      "image/png": "[encoded data removed]",
      "text/plain": [
       "<Figure size 432x288 with 1 Axes>"
      ]
     },
     "metadata": {
      "needs_background": "light"
     },
     "output_type": "display_data"
    }
   ],
   "source": [
    "from sklearn.metrics import confusion_matrix\n",
    "import seaborn as sns\n",
    "y_prediction = NBModel.predict(X_test)\n",
    "mat = confusion_matrix(y_test, y_prediction)\n",
    "sns.heatmap(mat.T, square=True, annot=True, fmt='d', cbar=False,\n",
    "            xticklabels=[0, 1], yticklabels=[0,1])\n",
    "plt.xlabel('true label')\n",
    "plt.ylabel('predicted label');\n",
    "\n",
    "plt.show()"
   ]
  },
  {
   "cell_type": "code",
   "execution_count": 12,
   "metadata": {},
   "outputs": [
    {
     "name": "stdout",
     "output_type": "stream",
     "text": [
      "微調後資料集準確率: 0.987\n"
     ]
    }
   ],
   "source": [
    "df_alter=pd.read_csv(\"./teacher_data_alter.csv\") #讀csv\n",
    "\n",
    "label_encoder=LabelEncoder()\n",
    "df_alter[\"gender\"]=label_encoder.fit_transform(df_alter[\"gender\"]) # 對gender做label Encoder\n",
    "df_alter[\"attitude\"]=label_encoder.fit_transform(df_alter[\"attitude\"]) # 對attitude做label Encoder\n",
    "df_alter[\"class_type\"]=label_encoder.fit_transform(df_alter[\"class_type\"]) # 對class_type做label Encoder\n",
    "df_alter[\"pass_rate\"]=label_encoder.fit_transform(df_alter[\"pass_rate\"]) # 對pass_rate做label Encoder\n",
    "df_alter[\"classhw\"]=label_encoder.fit_transform(df_alter[\"classhw\"]) # 對classhw做label Encoder\n",
    "df_alter[\"care\"]=label_encoder.fit_transform(df_alter[\"care\"]) # 對care做label Encoder\n",
    "df_alter[\"label\"]=label_encoder.fit_transform(df_alter[\"label\"]) # 對label做label Encoder\n",
    "\n",
    "X_alter=df_alter.drop(labels=[\"label\"],axis=1).values\n",
    "y_alter=df_alter[\"label\"].values\n",
    "print(\"微調後資料集準確率:\",BernModel.score(X_alter,y_alter)) #使用測試資料預測分類，並印出準確率"
   ]
  },
  {
   "cell_type": "code",
   "execution_count": 13,
   "metadata": {},
   "outputs": [
    {
     "data": {
      "image/png": "[encoded data removed]",
      "text/plain": [
       "<Figure size 432x288 with 1 Axes>"
      ]
     },
     "metadata": {
      "needs_background": "light"
     },
     "output_type": "display_data"
    }
   ],
   "source": [
    "from sklearn.metrics import confusion_matrix\n",
    "import seaborn as sns\n",
    "y_prediction_alter = BernModel.predict(X_alter)\n",
    "mat = confusion_matrix(y_alter, y_prediction_alter)\n",
    "sns.heatmap(mat.T, square=True, annot=True, fmt='d', cbar=False,\n",
    "            xticklabels=[0, 1], yticklabels=[0,1])\n",
    "plt.xlabel('True label')\n",
    "plt.ylabel('Predicted label')\n",
    "\n",
    "plt.show()"
   ]
  },
  {
   "cell_type": "code",
   "execution_count": null,
   "metadata": {},
   "outputs": [],
   "source": []
  }
 ],
 "metadata": {
  "kernelspec": {
   "display_name": "Python 3.9.12 ('base')",
   "language": "python",
   "name": "python3"
  },
  "language_info": {
   "codemirror_mode": {
    "name": "ipython",
    "version": 3
   },
   "file_extension": ".py",
   "mimetype": "text/x-python",
   "name": "python",
   "nbconvert_exporter": "python",
   "pygments_lexer": "ipython3",
   "version": "3.9.12"
  },
  "orig_nbformat": 4,
  "vscode": {
   "interpreter": {
    "hash": "21bfaabeb5f90dcb35f03e41cd0a17fbadd35308efdf98a46f30b833cf085000"
   }
  }
 },
 "nbformat": 4,
 "nbformat_minor": 2
}
