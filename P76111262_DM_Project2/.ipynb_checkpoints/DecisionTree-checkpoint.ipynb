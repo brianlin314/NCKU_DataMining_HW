{
 "cells": [
  {
   "cell_type": "code",
   "execution_count": 1,
   "id": "82665ebd",
   "metadata": {},
   "outputs": [],
   "source": [
    "import pandas as pd\n",
    "import numpy as np\n",
    "import matplotlib.pyplot as plt\n",
    "import seaborn as sns\n",
    "import io\n",
    "import requests"
   ]
  },
  {
   "cell_type": "code",
   "execution_count": 2,
   "id": "845a4c37",
   "metadata": {},
   "outputs": [
    {
     "name": "stdout",
     "output_type": "stream",
     "text": [
      "      age gender  height  weight attitude  prepare_hours class_type pass_rate  \\\n",
      "0      51      M     166      88  Serious              0     Online      High   \n",
      "1      56      M     187      98     Free              6   Physical       Low   \n",
      "2      55      M     173      98  Serious              5   Physical      High   \n",
      "3      28      F     174      49  Serious              1     Online      High   \n",
      "4      31      F     157      88  Serious              6   Physical      High   \n",
      "...   ...    ...     ...     ...      ...            ...        ...       ...   \n",
      "4995   56      F     175      69  Serious              5     Online      High   \n",
      "4996   42      M     145      60     Free              1   Physical      High   \n",
      "4997   64      M     156      92  Serious              4     Online      High   \n",
      "4998   48      M     144      96  Serious              6   Physical      High   \n",
      "4999   63      F     180      43     Free              4   Physical      High   \n",
      "\n",
      "      glasses classhw  label  \n",
      "0           1     Low      0  \n",
      "1           0     Low      0  \n",
      "2           0  Middle      1  \n",
      "3           0    High      0  \n",
      "4           0     Low      1  \n",
      "...       ...     ...    ...  \n",
      "4995        1    High      1  \n",
      "4996        0    High      0  \n",
      "4997        0     Low      1  \n",
      "4998        1     Low      1  \n",
      "4999        0  Middle      0  \n",
      "\n",
      "[5000 rows x 11 columns]\n"
     ]
    }
   ],
   "source": [
    "df=pd.read_csv(\"./teacher_data.csv\") #讀csv\n",
    "print(df)"
   ]
  },
  {
   "cell_type": "code",
   "execution_count": 3,
   "id": "baa1d265",
   "metadata": {},
   "outputs": [
    {
     "name": "stdout",
     "output_type": "stream",
     "text": [
      "      age  gender  height  weight  attitude  prepare_hours  class_type  \\\n",
      "0      51       1     166      88         1              0           0   \n",
      "1      56       1     187      98         0              6           1   \n",
      "2      55       1     173      98         1              5           1   \n",
      "3      28       0     174      49         1              1           0   \n",
      "4      31       0     157      88         1              6           1   \n",
      "...   ...     ...     ...     ...       ...            ...         ...   \n",
      "4995   56       0     175      69         1              5           0   \n",
      "4996   42       1     145      60         0              1           1   \n",
      "4997   64       1     156      92         1              4           0   \n",
      "4998   48       1     144      96         1              6           1   \n",
      "4999   63       0     180      43         0              4           1   \n",
      "\n",
      "      pass_rate  glasses  classhw  label  \n",
      "0             0        1        1      0  \n",
      "1             1        0        1      0  \n",
      "2             0        0        2      1  \n",
      "3             0        0        0      0  \n",
      "4             0        0        1      1  \n",
      "...         ...      ...      ...    ...  \n",
      "4995          0        1        0      1  \n",
      "4996          0        0        0      0  \n",
      "4997          0        0        1      1  \n",
      "4998          0        1        1      1  \n",
      "4999          0        0        2      0  \n",
      "\n",
      "[5000 rows x 11 columns]\n"
     ]
    }
   ],
   "source": [
    "from sklearn.preprocessing import LabelEncoder\n",
    "label_encoder=LabelEncoder()\n",
    "df[\"gender\"]=label_encoder.fit_transform(df[\"gender\"]) # 對gender做label Encoder\n",
    "df[\"attitude\"]=label_encoder.fit_transform(df[\"attitude\"]) # 對attitude做label Encoder\n",
    "df[\"class_type\"]=label_encoder.fit_transform(df[\"class_type\"]) # 對class_type做label Encoder\n",
    "df[\"pass_rate\"]=label_encoder.fit_transform(df[\"pass_rate\"]) # 對pass_rate做label Encoder\n",
    "df[\"classhw\"]=label_encoder.fit_transform(df[\"classhw\"]) # 對classhw做label Encoder\n",
    "print(df)"
   ]
  },
  {
   "cell_type": "code",
   "execution_count": 4,
   "id": "5398cec9",
   "metadata": {},
   "outputs": [
    {
     "name": "stdout",
     "output_type": "stream",
     "text": [
      "當前資料缺失值總數: 0\n"
     ]
    }
   ],
   "source": [
    "df=df.dropna()\n",
    "print(\"當前資料缺失值總數:\",len(np.where(np.isnan(df))[0]))"
   ]
  },
  {
   "cell_type": "code",
   "execution_count": 5,
   "id": "5f508e0d",
   "metadata": {},
   "outputs": [
    {
     "name": "stdout",
     "output_type": "stream",
     "text": [
      "X:\n",
      " [[ 51   1 166 ...   0   1   1]\n",
      " [ 56   1 187 ...   1   0   1]\n",
      " [ 55   1 173 ...   0   0   2]\n",
      " ...\n",
      " [ 64   1 156 ...   0   0   1]\n",
      " [ 48   1 144 ...   0   1   1]\n",
      " [ 63   0 180 ...   0   0   2]]\n",
      "y:\n",
      " [0 0 1 ... 1 1 0]\n",
      "Training data shape: (3750, 10)\n",
      "Testing data shape: (1250, 10)\n"
     ]
    }
   ],
   "source": [
    "from sklearn.model_selection import train_test_split\n",
    "X=df.drop(labels=[\"label\"],axis=1).values #沒label\n",
    "y=df[\"label\"].values #有label\n",
    "print(\"X:\\n\",X)\n",
    "print(\"y:\\n\",y)\n",
    "X_train,X_test,y_train,y_test=train_test_split(X,y,test_size=0.25,random_state=42)\n",
    "print(\"Training data shape:\",X_train.shape)\n",
    "print(\"Testing data shape:\",X_test.shape)"
   ]
  },
  {
   "cell_type": "markdown",
   "id": "2a5a9420",
   "metadata": {},
   "source": [
    "分類決策樹\n",
    "一個決策樹會根據訓練資料自動產生一棵樹。決策樹會根據資料產生很多樹狀的規則，最終訓練出來的規則會對新樣本進行預測。\n",
    "\n",
    "Parameters:\n",
    "。criterion: 亂度的評估標準，gini/entropy。預設為gini。\n",
    "。max_depth: 樹的最大深度。\n",
    "。splitter: 特徵劃分點選擇標準，best/random。預設為best。\n",
    "。random_state: 亂數種子，確保每次訓練結果都一樣，splitter=random 才有用。\n",
    "。min_samples_split: 至少有多少資料才能再分\n",
    "。min_samples_leaf: 分完至少有多少資料才能分\n",
    "\n",
    "Attributes:\n",
    "。feature_importances_: 查詢模型特徵的重要程度。\n",
    "\n",
    "Methods:\n",
    "。fit: 放入X、y進行模型擬合。\n",
    "。predict: 預測並回傳預測類別。\n",
    "。score: 預測成功的比例。\n",
    "。predict_proba: 預測每個類別的機率值。\n",
    "。get_depth: 取得樹的深度。"
   ]
  },
  {
   "cell_type": "code",
   "execution_count": 6,
   "id": "1598328b",
   "metadata": {},
   "outputs": [
    {
     "name": "stdout",
     "output_type": "stream",
     "text": [
      "Test set Accuracy: 1.0\n",
      "Train set Accuracy: 1.0\n"
     ]
    }
   ],
   "source": [
    "from sklearn.tree import DecisionTreeClassifier\n",
    "DecidionTreeModel=DecisionTreeClassifier(criterion='gini',max_depth=5,random_state=42) #建立模型\n",
    "DecidionTreeModel.fit(X_train,y_train) #使用訓練資料訓練模型\n",
    "print(\"Test set Accuracy:\",DecidionTreeModel.score(X_test,y_test)) #使用測試資料預測分類，並印出準確率\n",
    "print(\"Train set Accuracy:\",DecidionTreeModel.score(X_train,y_train)) #使用訓練資料預測分類，並印出準確率"
   ]
  },
  {
   "cell_type": "code",
   "execution_count": 7,
   "id": "4d05d3ee",
   "metadata": {},
   "outputs": [
    {
     "name": "stdout",
     "output_type": "stream",
     "text": [
      "特徵重要程度:  [0.         0.         0.         0.         0.33915151 0.26640345\n",
      " 0.         0.39444504 0.         0.        ]\n"
     ]
    }
   ],
   "source": [
    "print('特徵重要程度: ',DecidionTreeModel.feature_importances_)"
   ]
  },
  {
   "cell_type": "code",
   "execution_count": 9,
   "id": "877670b3",
   "metadata": {},
   "outputs": [
    {
     "data": {
      "image/png": "[encoded data removed]",
      "text/plain": [
       "<Figure size 432x288 with 1 Axes>"
      ]
     },
     "metadata": {
      "needs_background": "light"
     },
     "output_type": "display_data"
    }
   ],
   "source": [
    "from sklearn import tree\n",
    "from io import StringIO\n",
    "import pydotplus\n",
    "import matplotlib.image as image\n",
    "filename=\"Decision.png\"\n",
    "ios = StringIO()\n",
    "feature=['age','gender','height','weight','attitude','prepare_hour','class_type','pass_rate','glasses','classhw']\n",
    "tree.export_graphviz(model,feature_names=feature, out_file=ios, class_names= np.unique(train_y), filled=True)\n",
    "gra = pydotplus.graph_from_dot_data(io.getvalue())  \n",
    "gra.write_png(filename)\n",
    "img = image.imread(filename)\n",
    "plt.figure(figsize=(100, 200))\n",
    "plt.imshow(img)"
   ]
  },
  {
   "cell_type": "code",
   "execution_count": null,
   "id": "42fb18c9",
   "metadata": {},
   "outputs": [],
   "source": []
  }
 ],
 "metadata": {
  "kernelspec": {
   "display_name": "Python 3 (ipykernel)",
   "language": "python",
   "name": "python3"
  },
  "language_info": {
   "codemirror_mode": {
    "name": "ipython",
    "version": 3
   },
   "file_extension": ".py",
   "mimetype": "text/x-python",
   "name": "python",
   "nbconvert_exporter": "python",
   "pygments_lexer": "ipython3",
   "version": "3.9.12"
  }
 },
 "nbformat": 4,
 "nbformat_minor": 5
}
